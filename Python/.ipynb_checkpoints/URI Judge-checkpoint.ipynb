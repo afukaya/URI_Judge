{
 "cells": [
  {
   "cell_type": "markdown",
   "metadata": {},
   "source": [
    "# Onda Crítica\n",
    "\n",
    "## Enunciado\n",
    "\n",
    "A tarefa é simples. Através de alguns pontos críticos em 2D, você deve desenhar uma onda como uma curva. Seu objetivo é incluir tantos pontos quantos forem possível.\n",
    "\n",
    "* Haverá uma linha imaginária y = a, a qual chamaremos de eixo principal para a curva.\n",
    "* Todos os pontos na curva deverão ter diferentes coordenadas x. Suas coordenadas y devem ser na forma a-1 ou a+1.\n",
    "* Dois pontos consecutivos na curva devem ter diferença de 2 na coordenada y.\n",
    "\n",
    "**Entrada**\n",
    "Haverá no máximo, 222 casos de testes. Cada caso inicia com um inteiro N, que é o número de pontos no caso de teste. Nas próximas N linhas, haverá N pares de inteiros dando as coordenadas x e y de cada ponto. Não haverá mais do que 1000 pontos em cada caso de teste. Todas coordenadas são inteiros – eles devem ficar dentro de um inteiro de 2 bytes com sinal. Os dados devem ser lidos da entrada padrão.\n",
    "\n",
    "**Saída**\n",
    "Para cada caso de teste, imprima um número – o número máximo de pontos críticos que podem ser incluídos em uma curva desenhada a partir dos pontos dados.\n"
   ]
  },
  {
   "cell_type": "markdown",
   "metadata": {},
   "source": [
    "## Considerações\n",
    "1. Verificar quantos números serão colocados no vertor de coordenadas. Deve ser menor que 1000.\n",
    "2. Adiconar os pontos da linha.\n",
    "3. Pegar o primeiro ponto da linha e tornar ele o ponto atual e adicionar aos pontos válidos.\n",
    "4. Comparar o ponto atual com o ponto seguinte.\n",
    "5. Se o x do ponto atual for diferente do próximo ponto e se o y for mais ou menos 2 que o y do proximo ponto, adicionar o próximo ponto como um ponto válido e avançar para o próximo ponto, tornando ele o ponto atual. Senão, avançar para o próximo ponto, sem avançar o ponto atual.\n"
   ]
  },
  {
   "cell_type": "code",
   "execution_count": 3,
   "metadata": {},
   "outputs": [
    {
     "ename": "SyntaxError",
     "evalue": "invalid syntax (<ipython-input-3-ecff0019b8b6>, line 2)",
     "output_type": "error",
     "traceback": [
      "\u001b[1;36m  File \u001b[1;32m\"<ipython-input-3-ecff0019b8b6>\"\u001b[1;36m, line \u001b[1;32m2\u001b[0m\n\u001b[1;33m    for(i in range[n]):\u001b[0m\n\u001b[1;37m                      ^\u001b[0m\n\u001b[1;31mSyntaxError\u001b[0m\u001b[1;31m:\u001b[0m invalid syntax\n"
     ]
    }
   ],
   "source": [
    "n = input(\"Entre com a quantidade de pontos no vetor:\")\n",
    "for(i in range[0,n]):\n",
    "    print(n)"
   ]
  },
  {
   "cell_type": "code",
   "execution_count": null,
   "metadata": {},
   "outputs": [],
   "source": []
  }
 ],
 "metadata": {
  "kernelspec": {
   "display_name": "Python 3",
   "language": "python",
   "name": "python3"
  },
  "language_info": {
   "codemirror_mode": {
    "name": "ipython",
    "version": 3
   },
   "file_extension": ".py",
   "mimetype": "text/x-python",
   "name": "python",
   "nbconvert_exporter": "python",
   "pygments_lexer": "ipython3",
   "version": "3.7.4"
  }
 },
 "nbformat": 4,
 "nbformat_minor": 2
}
