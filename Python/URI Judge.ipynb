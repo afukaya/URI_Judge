{
 "cells": [
  {
   "cell_type": "markdown",
   "metadata": {},
   "source": [
    "# Onda Crítica\n",
    "\n",
    "## Enunciado\n",
    "\n",
    "A tarefa é simples. Através de alguns pontos críticos em 2D, você deve desenhar uma onda como uma curva. Seu objetivo é incluir tantos pontos quantos forem possível.\n",
    "\n",
    "* Haverá uma linha imaginária y = a, a qual chamaremos de eixo principal para a curva.\n",
    "* Todos os pontos na curva deverão ter diferentes coordenadas x. Suas coordenadas y devem ser na forma a-1 ou a+1.\n",
    "* Dois pontos consecutivos na curva devem ter diferença de 2 na coordenada y.\n",
    "\n",
    "**Entrada**\n",
    "Haverá no máximo, 222 casos de testes. Cada caso inicia com um inteiro N, que é o número de pontos no caso de teste. Nas próximas N linhas, haverá N pares de inteiros dando as coordenadas x e y de cada ponto. Não haverá mais do que 1000 pontos em cada caso de teste. Todas coordenadas são inteiros – eles devem ficar dentro de um inteiro de 2 bytes com sinal. Os dados devem ser lidos da entrada padrão.\n",
    "\n",
    "**Saída**\n",
    "Para cada caso de teste, imprima um número – o número máximo de pontos críticos que podem ser incluídos em uma curva desenhada a partir dos pontos dados.\n"
   ]
  },
  {
   "cell_type": "markdown",
   "metadata": {},
   "source": [
    "## Considerações\n",
    "1. Verificar quantos números serão colocados no vertor de coordenadas. Deve ser menor que 1000.\n",
    "2. Adiconar os pontos da linha.\n",
    "3. Pegar o primeiro ponto da linha e tornar ele o ponto atual e adicionar aos pontos válidos.\n",
    "4. Comparar o ponto atual com o ponto seguinte.\n",
    "5. Se o x do ponto atual for diferente do próximo ponto e se o y for mais ou menos 2 que o y do proximo ponto, adicionar o próximo ponto como um ponto válido e avançar para o próximo ponto, tornando ele o ponto atual. Senão, avançar para o próximo ponto, sem avançar o ponto atual.\n"
   ]
  },
  {
   "cell_type": "markdown",
   "metadata": {},
   "source": [
    "## Entrada de dados"
   ]
  },
  {
   "cell_type": "code",
   "execution_count": 5,
   "metadata": {},
   "outputs": [
    {
     "name": "stdout",
     "output_type": "stream",
     "text": [
      "Entre com a quantidade de pontos no vetor:5\n",
      "Entre com as coordenadas do ponto 1 \n",
      "X: 1\n",
      "Y: 2\n",
      "Entre com as coordenadas do ponto 2 \n",
      "X: 2\n",
      "Y: 9\n",
      "Entre com as coordenadas do ponto 3 \n",
      "X: 7\n",
      "Y: 5\n",
      "Entre com as coordenadas do ponto 4 \n",
      "X: 4\n",
      "Y: 9\n",
      "Entre com as coordenadas do ponto 5 \n",
      "X: 3\n",
      "Y: 0\n"
     ]
    },
    {
     "data": {
      "text/plain": [
       "[(1, 2), (2, 9), (3, 0), (4, 9), (7, 5)]"
      ]
     },
     "execution_count": 5,
     "metadata": {},
     "output_type": "execute_result"
    }
   ],
   "source": [
    "coord_list = []\n",
    "n = int(input(\"Entre com a quantidade de pontos no vetor:\"))\n",
    "for i in range(n):\n",
    "    print(\"Entre com as coordenadas do ponto %d \"%(i+1))\n",
    "    x = int(input(\"X: \"))\n",
    "    y = int(input(\"Y: \"))\n",
    "    coord_list.append((x,y))\n",
    "coord_list.sort()\n",
    "coord_list"
   ]
  },
  {
   "cell_type": "markdown",
   "metadata": {},
   "source": [
    "## Validação dos pontos do vetor"
   ]
  },
  {
   "cell_type": "code",
   "execution_count": 11,
   "metadata": {},
   "outputs": [
    {
     "data": {
      "text/plain": [
       "1"
      ]
     },
     "execution_count": 11,
     "metadata": {},
     "output_type": "execute_result"
    }
   ],
   "source": [
    "x0,y0 = coord_list[0]\n",
    "pontos = 1\n",
    "for i in range(1,n):\n",
    "    x1,y1 = coord_list[i]\n",
    "    if (x0 != x1) and (y1 - y1 >= 2):\n",
    "        x0 = x1\n",
    "        y0 = y1\n",
    "        pontos += 1\n",
    "pontos"
   ]
  },
  {
   "cell_type": "code",
   "execution_count": null,
   "metadata": {},
   "outputs": [],
   "source": []
  }
 ],
 "metadata": {
  "kernelspec": {
   "display_name": "Python 3",
   "language": "python",
   "name": "python3"
  },
  "language_info": {
   "codemirror_mode": {
    "name": "ipython",
    "version": 3
   },
   "file_extension": ".py",
   "mimetype": "text/x-python",
   "name": "python",
   "nbconvert_exporter": "python",
   "pygments_lexer": "ipython3",
   "version": "3.7.4"
  }
 },
 "nbformat": 4,
 "nbformat_minor": 2
}
